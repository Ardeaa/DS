{
 "cells": [
  {
   "cell_type": "code",
   "execution_count": 25,
   "metadata": {},
   "outputs": [],
   "source": [
    "from surprise import SVD, SVDpp\n",
    "from surprise import Dataset\n",
    "from surprise import accuracy\n",
    "from surprise.model_selection import cross_validate\n",
    "from surprise import Reader\n",
    "from surprise.model_selection import train_test_split\n",
    "import pandas as pd\n",
    "import numpy as np\n",
    "import matplotlib.pyplot as plt\n",
    "from lightfm import LightFM\n",
    "from lightfm.evaluation import precision_at_k\n",
    "from lightfm.evaluation import auc_score\n",
    "\n",
    "from tqdm import tqdm_notebook\n",
    "\n",
    "from sklearn.feature_extraction.text import TfidfTransformer, CountVectorizer\n",
    "from sklearn.neighbors import NearestNeighbors"
   ]
  },
  {
   "cell_type": "code",
   "execution_count": 26,
   "metadata": {},
   "outputs": [],
   "source": [
    "links = pd.read_csv('links.csv')\n",
    "movies = pd.read_csv('movies.csv')\n",
    "ratings = pd.read_csv('ratings.csv')\n",
    "tags = pd.read_csv('tags.csv')\n",
    "movies_with_ratings = movies.join(ratings.set_index('movieId'), on='movieId').reset_index(drop=True)\n",
    "movies_with_ratings.dropna(inplace=True)\n",
    "dataset = pd.DataFrame({\n",
    "    'uid': movies_with_ratings.userId,\n",
    "    'iid': movies_with_ratings.title,\n",
    "    'rating': movies_with_ratings.rating\n",
    "})\n",
    "reader = Reader(rating_scale=(0.5, 5.0))\n",
    "data = Dataset.load_from_df(dataset, reader)\n",
    "trainset, testset = train_test_split(data, test_size=.15, random_state=42)"
   ]
  },
  {
   "cell_type": "code",
   "execution_count": 27,
   "metadata": {},
   "outputs": [],
   "source": [
    "def change_string(s):\n",
    "    return ' '.join(s.replace(' ', '').replace('-', '').split('|'))"
   ]
  },
  {
   "cell_type": "code",
   "execution_count": 28,
   "metadata": {},
   "outputs": [
    {
     "data": {
      "text/plain": [
       "'Adventure Animation Children Comedy Fantasy'"
      ]
     },
     "execution_count": 28,
     "metadata": {},
     "output_type": "execute_result"
    }
   ],
   "source": [
    "movie_genres = [change_string(g) for g in movies.genres.values]\n",
    "movie_genres[0]"
   ]
  },
  {
   "cell_type": "code",
   "execution_count": 14,
   "metadata": {},
   "outputs": [],
   "source": [
    "title_genres = {}\n",
    "\n",
    "for index, row in tqdm_notebook(movies.iterrows()):\n",
    "    title_genres[row.title] = row.genres"
   ]
  },
  {
   "cell_type": "code",
   "execution_count": 29,
   "metadata": {},
   "outputs": [],
   "source": [
    "count_vect = CountVectorizer()\n",
    "X_train_counts = count_vect.fit_transform(movie_genres)\n",
    "\n",
    "tfidf_transformer = TfidfTransformer()\n",
    "X_train_tfidf = tfidf_transformer.fit_transform(X_train_counts)"
   ]
  },
  {
   "cell_type": "code",
   "execution_count": 61,
   "metadata": {},
   "outputs": [],
   "source": [
    "def recommend_for_user(user_id):\n",
    "    current_user_id = user_id\n",
    "    user_movies = movies_with_ratings[movies_with_ratings.userId == current_user_id].title.unique()\n",
    "    last_user_movie = user_movies[-1]\n",
    "    movie_genres = title_genres[last_user_movie]\n",
    "    movie_genres = change_string(movie_genres)\n",
    "    predict = count_vect.transform([movie_genres])\n",
    "    X_tfidf2 = tfidf_transformer.transform(predict)\n",
    "    res = neigh.kneighbors(X_tfidf2, return_distance=True)\n",
    "    movies_to_score = movies.iloc[res[1][0]].title.values\n",
    "\n",
    "    scores = []\n",
    "    titles = []\n",
    "\n",
    "    for movie in movies_to_score:\n",
    "        if movie in user_movies:\n",
    "            continue\n",
    "\n",
    "        scores.append(algo.predict(uid=current_user_id, iid=movie).est)\n",
    "        titles.append(movie)\n",
    "        \n",
    "    \n",
    "    best_indexes = np.argsort(scores)[-10:]\n",
    "    for i in reversed(best_indexes):\n",
    "        print(titles[i], scores[i])"
   ]
  },
  {
   "cell_type": "code",
   "execution_count": 70,
   "metadata": {},
   "outputs": [],
   "source": [
    "def recommend_for_user2(user_id):\n",
    "    n_users, n_items = movielens['train'].shape\n",
    "    current_user_id = user_id\n",
    "    user_movies = movies_with_ratings[movies_with_ratings.userId == current_user_id].title.unique()\n",
    "    last_user_movie = user_movies[-1]\n",
    "    movie_genres = title_genres[last_user_movie]\n",
    "    movie_genres = change_string(movie_genres)\n",
    "    predict = count_vect.transform([movie_genres])\n",
    "    X_tfidf2 = tfidf_transformer.transform(predict)\n",
    "    res = neigh.kneighbors(X_tfidf2, return_distance=True)\n",
    "    movies_to_score = movies.iloc[res[1][0]].title.values\n",
    "    for movie in movies_to_score:\n",
    "        if movie in user_movies:\n",
    "            continue\n",
    "        scores = algo.predict(user_id, np.arange(n_items))\n",
    "\n",
    "        top_items = movielens['item_labels'][np.argsort(-scores)] \n",
    "        top_scores = scores[np.argsort(-scores)] \n",
    "        \n",
    "    for i in top_items[:10]:\n",
    "            print(\"        %s\" % i)"
   ]
  },
  {
   "cell_type": "code",
   "execution_count": 64,
   "metadata": {},
   "outputs": [
    {
     "name": "stdout",
     "output_type": "stream",
     "text": [
      "Enron: The Smartest Guys in the Room (2005) 3.7804474659150693\n",
      "Searching for Sugar Man (2012) 3.751202220628989\n",
      "Tomorrow (2015) 3.6603845140170717\n",
      "My Kid Could Paint That (2007) 3.627018629135345\n",
      "Haunted World of Edward D. Wood Jr., The (1996) 3.6059823813510965\n",
      "Samsara (2011) 3.6007414480354623\n",
      "Nobody Speak: Hulk Hogan, Gawker and Trials of a Free Press (2017) 3.5637914349157866\n",
      "6 Days to Air: The Making of South Park (2011) 3.5544160787235293\n",
      "Waiting for 'Superman' (2010) 3.5492816055445666\n",
      "Get Me Roger Stone (2017) 3.545838242408712\n"
     ]
    }
   ],
   "source": [
    "algo = SVD(n_factors=20, n_epochs=20)\n",
    "algo.fit(trainset)\n",
    "recommend_for_user(2.0)"
   ]
  },
  {
   "cell_type": "code",
   "execution_count": 33,
   "metadata": {},
   "outputs": [
    {
     "name": "stdout",
     "output_type": "stream",
     "text": [
      "Searching for Sugar Man (2012) 3.7153681198391437\n",
      "Tomorrow (2015) 3.698318645237553\n",
      "My Kid Could Paint That (2007) 3.682948512919022\n",
      "Samsara (2011) 3.680480879382157\n",
      "Enron: The Smartest Guys in the Room (2005) 3.6784279766574635\n",
      "Nobody Speak: Hulk Hogan, Gawker and Trials of a Free Press (2017) 3.6532387553660244\n",
      "Haunted World of Edward D. Wood Jr., The (1996) 3.594513337651411\n",
      "Get Me Roger Stone (2017) 3.5891634798491885\n",
      "Waiting for 'Superman' (2010) 3.5807115060073267\n",
      "Comandante (2003) 3.5701625936160957\n"
     ]
    }
   ],
   "source": [
    "algo = SVDpp()\n",
    "algo.fit(trainset)\n",
    "recommend_for_user(2.0)"
   ]
  },
  {
   "cell_type": "code",
   "execution_count": 72,
   "metadata": {},
   "outputs": [
    {
     "name": "stdout",
     "output_type": "stream",
     "text": [
      "        Air Force One (1997)\n",
      "        L.A. Confidential (1997)\n",
      "        English Patient, The (1996)\n",
      "        Contact (1997)\n",
      "        Devil's Advocate, The (1997)\n",
      "        Titanic (1997)\n",
      "        G.I. Jane (1997)\n",
      "        Scream (1996)\n",
      "        Conspiracy Theory (1997)\n",
      "        Cop Land (1997)\n"
     ]
    }
   ],
   "source": [
    "from lightfm.datasets import fetch_movielens\n",
    "movielens = fetch_movielens()\n",
    "train = movielens['train']\n",
    "test = movielens['test']\n",
    "algo = LightFM(learning_rate=0.05, loss='warp')\n",
    "algo.fit_partial(train, epochs=10)\n",
    "recommend_for_user2(2.0)"
   ]
  }
 ],
 "metadata": {
  "kernelspec": {
   "display_name": "Python 3",
   "language": "python",
   "name": "python3"
  },
  "language_info": {
   "codemirror_mode": {
    "name": "ipython",
    "version": 3
   },
   "file_extension": ".py",
   "mimetype": "text/x-python",
   "name": "python",
   "nbconvert_exporter": "python",
   "pygments_lexer": "ipython3",
   "version": "3.7.4"
  }
 },
 "nbformat": 4,
 "nbformat_minor": 4
}
