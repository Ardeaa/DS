{
 "cells": [
  {
   "cell_type": "code",
   "execution_count": 1,
   "metadata": {},
   "outputs": [
    {
     "data": {
      "text/plain": [
       "4.0    26818\n",
       "3.0    20047\n",
       "5.0    13211\n",
       "3.5    13136\n",
       "4.5     8551\n",
       "2.0     7551\n",
       "2.5     5550\n",
       "1.0     2811\n",
       "1.5     1791\n",
       "0.5     1370\n",
       "Name: rating, dtype: int64"
      ]
     },
     "execution_count": 1,
     "metadata": {},
     "output_type": "execute_result"
    }
   ],
   "source": [
    "import pandas as pd\n",
    "import numpy as np\n",
    "from tqdm import tqdm_notebook\n",
    "df_ratings = pd.read_csv('ratings.csv')\n",
    "df_movies = pd.read_csv('movies.csv')\n",
    "df = pd.merge(df_ratings, df_movies, on='movieId')\n",
    "del df['timestamp']\n",
    "del df['genres']\n",
    "df['rating'].value_counts()"
   ]
  },
  {
   "cell_type": "code",
   "execution_count": 4,
   "metadata": {},
   "outputs": [
    {
     "data": {
      "application/vnd.jupyter.widget-view+json": {
       "model_id": "51a820507c554ab7a8ce415b915f4d06",
       "version_major": 2,
       "version_minor": 0
      },
      "text/plain": [
       "HBox(children=(IntProgress(value=0, max=9719), HTML(value='')))"
      ]
     },
     "metadata": {},
     "output_type": "display_data"
    },
    {
     "name": "stdout",
     "output_type": "stream",
     "text": [
      "\n"
     ]
    }
   ],
   "source": [
    "MAX_USER_ID = 610\n",
    "MIN_USER_ID = 1\n",
    "movie_names = df['title'].unique()\n",
    "movie_names = movie_names.tolist()\n",
    "movie_to_vector = {}\n",
    "for movie in tqdm_notebook(movie_names):\n",
    "    movie_to_vector[movie] = np.zeros((MAX_USER_ID,))\n",
    "    for r in df[df['title'] == movie].iterrows():\n",
    "        movie_to_vector[movie][r[1]['userId'] - MIN_USER_ID] = r[1]['rating']"
   ]
  },
  {
   "cell_type": "code",
   "execution_count": 3,
   "metadata": {
    "collapsed": true,
    "jupyter": {
     "outputs_hidden": true
    }
   },
   "outputs": [
    {
     "data": {
      "text/plain": [
       "array([4. , 0. , 0. , 0. , 4. , 0. , 4.5, 0. , 0. , 0. , 0. , 0. , 0. ,\n",
       "       0. , 2.5, 0. , 4.5, 3.5, 4. , 0. , 3.5, 0. , 0. , 0. , 0. , 0. ,\n",
       "       3. , 0. , 0. , 0. , 5. , 3. , 3. , 0. , 0. , 0. , 0. , 0. , 0. ,\n",
       "       5. , 0. , 0. , 5. , 3. , 4. , 5. , 0. , 0. , 0. , 3. , 0. , 0. ,\n",
       "       0. , 3. , 0. , 0. , 5. , 0. , 0. , 0. , 0. , 0. , 5. , 4. , 0. ,\n",
       "       4. , 0. , 2.5, 0. , 0. , 5. , 0. , 4.5, 0. , 0. , 0.5, 0. , 4. ,\n",
       "       0. , 0. , 0. , 2.5, 0. , 0. , 0. , 4. , 0. , 0. , 3. , 3. , 4. ,\n",
       "       0. , 3. , 0. , 0. , 5. , 0. , 4.5, 0. , 0. , 0. , 0. , 4. , 0. ,\n",
       "       0. , 0. , 4. , 0. , 0. , 0. , 0. , 3. , 0. , 0. , 0. , 0. , 0. ,\n",
       "       0. , 3.5, 0. , 4. , 0. , 0. , 4. , 0. , 0. , 0. , 0. , 0. , 3. ,\n",
       "       0. , 2. , 0. , 3. , 4. , 0. , 4. , 0. , 0. , 3. , 4. , 0. , 0. ,\n",
       "       3.5, 5. , 0. , 0. , 0. , 0. , 0. , 5. , 0. , 2. , 0. , 3. , 4. ,\n",
       "       0. , 0. , 4.5, 4. , 4. , 0. , 0. , 0. , 0. , 5. , 3.5, 0. , 4.5,\n",
       "       0. , 5. , 0. , 0. , 0. , 0. , 0. , 5. , 4. , 4. , 0. , 0. , 4. ,\n",
       "       0. , 0. , 4. , 4. , 0. , 0. , 0. , 0. , 4. , 0. , 2. , 0. , 0. ,\n",
       "       0. , 0. , 0. , 0. , 3.5, 5. , 4. , 0. , 0. , 0. , 5. , 0. , 0. ,\n",
       "       0. , 0. , 0. , 0. , 3.5, 3. , 0. , 3. , 4. , 0. , 3.5, 5. , 0. ,\n",
       "       0. , 3.5, 0. , 0. , 3.5, 0. , 0. , 5. , 0. , 0. , 3.5, 3. , 5. ,\n",
       "       0. , 0. , 0. , 0. , 4. , 5. , 0. , 0. , 0. , 0. , 0. , 0. , 5. ,\n",
       "       0. , 4. , 0. , 0. , 4.5, 0. , 4.5, 0. , 0. , 0. , 0. , 0. , 0. ,\n",
       "       0. , 0. , 4. , 4. , 0. , 2. , 0. , 0. , 5. , 5. , 0. , 0. , 5. ,\n",
       "       4. , 5. , 4. , 4. , 0. , 3. , 4.5, 0. , 4.5, 3. , 0. , 0. , 0. ,\n",
       "       0. , 4.5, 0. , 4. , 4. , 4. , 3. , 0. , 0. , 0. , 0. , 2. , 0. ,\n",
       "       0. , 0. , 0. , 0. , 5. , 0. , 0. , 4. , 0. , 0. , 0. , 0. , 0. ,\n",
       "       0. , 3. , 0. , 0. , 0. , 0. , 0. , 0. , 0. , 3.5, 3.5, 0. , 0. ,\n",
       "       0. , 0. , 5. , 0. , 4. , 0. , 4. , 0. , 3.5, 0. , 4. , 4. , 0. ,\n",
       "       4. , 0. , 5. , 0. , 0. , 0. , 0. , 0. , 5. , 0. , 0. , 4. , 0. ,\n",
       "       0. , 5. , 0. , 0. , 0. , 5. , 0. , 4. , 0. , 0. , 0. , 0. , 5. ,\n",
       "       0. , 0. , 5. , 0. , 0. , 0. , 0. , 3. , 3. , 0. , 0. , 0. , 0. ,\n",
       "       4.5, 0. , 5. , 3.5, 4.5, 0. , 0. , 4. , 0. , 0. , 0. , 5. , 0. ,\n",
       "       3. , 0. , 0. , 0. , 0. , 5. , 0. , 0. , 4. , 0. , 3.5, 0. , 0. ,\n",
       "       0. , 0. , 0. , 0. , 0. , 0. , 0. , 5. , 2. , 0. , 4. , 0. , 0. ,\n",
       "       0. , 0. , 0. , 4. , 0. , 4. , 0. , 0. , 0. , 0. , 0. , 0. , 0. ,\n",
       "       0. , 0. , 2.5, 0. , 4. , 0. , 4. , 0. , 4.5, 0. , 0. , 0. , 0. ,\n",
       "       4. , 0. , 0. , 0. , 0. , 5. , 0. , 0. , 5. , 0. , 5. , 0. , 0. ,\n",
       "       5. , 0. , 0. , 0. , 4.5, 0. , 1.5, 0. , 0. , 0. , 0. , 0. , 4. ,\n",
       "       4. , 4. , 5. , 0. , 0. , 4. , 0. , 4. , 4. , 0. , 0. , 3. , 0. ,\n",
       "       0. , 4. , 4.5, 0. , 0. , 0. , 4.5, 0. , 3.5, 0. , 4. , 0. , 0. ,\n",
       "       0. , 0. , 0. , 0. , 0. , 4. , 0. , 0. , 0. , 4. , 0. , 0. , 0. ,\n",
       "       0. , 4. , 0. , 0. , 0. , 0. , 4. , 0. , 0. , 4. , 0. , 0. , 0. ,\n",
       "       0. , 3. , 0. , 4. , 4. , 0. , 0. , 2.5, 3. , 0. , 0. , 0. , 5. ,\n",
       "       4. , 0. , 0. , 0. , 0. , 0. , 0. , 3. , 0. , 0. , 3. , 0. , 0. ,\n",
       "       0. , 0. , 0. , 4. , 0. , 0. , 0. , 0. , 4. , 0. , 0. , 0. , 5. ,\n",
       "       3. , 4. , 4.5, 0. , 0. , 0. , 0. , 3.5, 0. , 0. , 4. , 0. , 4. ,\n",
       "       5. , 0. , 0. , 0. , 0. , 0. , 4. , 3. , 0. , 0. , 0. , 5. , 0. ,\n",
       "       0. , 5. , 0. , 0. , 4. , 0. , 0. , 0. , 0. , 0. , 4. , 4. , 0. ,\n",
       "       3. , 2.5, 4. , 0. , 4. , 3. , 4. , 2.5, 4. , 2.5, 3. , 5. ])"
      ]
     },
     "execution_count": 3,
     "metadata": {},
     "output_type": "execute_result"
    }
   ],
   "source": [
    "movie_to_vector['Toy Story (1995)']"
   ]
  },
  {
   "cell_type": "markdown",
   "metadata": {},
   "source": [
    "## User 2 Item"
   ]
  },
  {
   "cell_type": "code",
   "execution_count": 50,
   "metadata": {},
   "outputs": [],
   "source": [
    "from surprise import Dataset, Reader, KNNBasic\n",
    "from surprise import SVD\n",
    "from surprise import KNNWithMeans, KNNWithZScore, SlopeOne, SlopeOne, CoClustering, KNNBaseline\n",
    "from surprise.model_selection import train_test_split\n",
    "from surprise import accuracy\n",
    "from surprise.model_selection import cross_validate"
   ]
  },
  {
   "cell_type": "code",
   "execution_count": 8,
   "metadata": {},
   "outputs": [
    {
     "data": {
      "text/html": [
       "<div>\n",
       "<style scoped>\n",
       "    .dataframe tbody tr th:only-of-type {\n",
       "        vertical-align: middle;\n",
       "    }\n",
       "\n",
       "    .dataframe tbody tr th {\n",
       "        vertical-align: top;\n",
       "    }\n",
       "\n",
       "    .dataframe thead th {\n",
       "        text-align: right;\n",
       "    }\n",
       "</style>\n",
       "<table border=\"1\" class=\"dataframe\">\n",
       "  <thead>\n",
       "    <tr style=\"text-align: right;\">\n",
       "      <th></th>\n",
       "      <th>uid</th>\n",
       "      <th>iid</th>\n",
       "      <th>rating</th>\n",
       "    </tr>\n",
       "  </thead>\n",
       "  <tbody>\n",
       "    <tr>\n",
       "      <td>0</td>\n",
       "      <td>1</td>\n",
       "      <td>1</td>\n",
       "      <td>4.0</td>\n",
       "    </tr>\n",
       "    <tr>\n",
       "      <td>1</td>\n",
       "      <td>1</td>\n",
       "      <td>3</td>\n",
       "      <td>4.0</td>\n",
       "    </tr>\n",
       "    <tr>\n",
       "      <td>2</td>\n",
       "      <td>1</td>\n",
       "      <td>6</td>\n",
       "      <td>4.0</td>\n",
       "    </tr>\n",
       "    <tr>\n",
       "      <td>3</td>\n",
       "      <td>1</td>\n",
       "      <td>47</td>\n",
       "      <td>5.0</td>\n",
       "    </tr>\n",
       "    <tr>\n",
       "      <td>4</td>\n",
       "      <td>1</td>\n",
       "      <td>50</td>\n",
       "      <td>5.0</td>\n",
       "    </tr>\n",
       "  </tbody>\n",
       "</table>\n",
       "</div>"
      ],
      "text/plain": [
       "   uid  iid  rating\n",
       "0    1    1     4.0\n",
       "1    1    3     4.0\n",
       "2    1    6     4.0\n",
       "3    1   47     5.0\n",
       "4    1   50     5.0"
      ]
     },
     "execution_count": 8,
     "metadata": {},
     "output_type": "execute_result"
    }
   ],
   "source": [
    "df_for_surpise = df_ratings[['userId', 'movieId', 'rating']]\n",
    "df_for_surpise.columns = ['uid', 'iid', 'rating']\n",
    "df_for_surpise.head()"
   ]
  },
  {
   "cell_type": "code",
   "execution_count": 9,
   "metadata": {},
   "outputs": [],
   "source": [
    "reader = Reader(rating_scale=(0.5, 5))\n",
    "data = Dataset.load_from_df(df_for_surpise, reader)\n",
    "algo = SVD ()"
   ]
  },
  {
   "cell_type": "code",
   "execution_count": 10,
   "metadata": {},
   "outputs": [
    {
     "name": "stdout",
     "output_type": "stream",
     "text": [
      "Evaluating RMSE, MAE of algorithm SVD on 5 split(s).\n",
      "\n",
      "                  Fold 1  Fold 2  Fold 3  Fold 4  Fold 5  Mean    Std     \n",
      "RMSE (testset)    0.8811  0.8753  0.8644  0.8766  0.8760  0.8747  0.0055  \n",
      "MAE (testset)     0.6754  0.6700  0.6648  0.6741  0.6743  0.6717  0.0039  \n",
      "Fit time          5.29    5.63    5.40    5.46    5.48    5.45    0.11    \n",
      "Test time         0.19    0.15    0.15    0.14    0.18    0.16    0.02    \n"
     ]
    },
    {
     "data": {
      "text/plain": [
       "{'test_rmse': array([0.88109674, 0.87527054, 0.86443727, 0.87661081, 0.8759852 ]),\n",
       " 'test_mae': array([0.67543603, 0.6699572 , 0.66481677, 0.67414952, 0.67429956]),\n",
       " 'fit_time': (5.294065952301025,\n",
       "  5.62656569480896,\n",
       "  5.401913404464722,\n",
       "  5.45524001121521,\n",
       "  5.475681781768799),\n",
       " 'test_time': (0.1914501190185547,\n",
       "  0.14757061004638672,\n",
       "  0.1505568027496338,\n",
       "  0.14161944389343262,\n",
       "  0.18354296684265137)}"
      ]
     },
     "execution_count": 10,
     "metadata": {},
     "output_type": "execute_result"
    }
   ],
   "source": [
    "cross_validate(algo, data, measures=['RMSE', 'MAE'], cv=5, verbose=True)"
   ]
  },
  {
   "cell_type": "code",
   "execution_count": 15,
   "metadata": {},
   "outputs": [],
   "source": [
    "trainset, testset = train_test_split(dataset, test_size=0.2)\n",
    "algo.fit(trainset)\n",
    "predictions = algo.test(testset)"
   ]
  },
  {
   "cell_type": "code",
   "execution_count": 53,
   "metadata": {},
   "outputs": [
    {
     "data": {
      "text/html": [
       "<div>\n",
       "<style scoped>\n",
       "    .dataframe tbody tr th:only-of-type {\n",
       "        vertical-align: middle;\n",
       "    }\n",
       "\n",
       "    .dataframe tbody tr th {\n",
       "        vertical-align: top;\n",
       "    }\n",
       "\n",
       "    .dataframe thead th {\n",
       "        text-align: right;\n",
       "    }\n",
       "</style>\n",
       "<table border=\"1\" class=\"dataframe\">\n",
       "  <thead>\n",
       "    <tr style=\"text-align: right;\">\n",
       "      <th></th>\n",
       "      <th>userId</th>\n",
       "      <th>movieId</th>\n",
       "      <th>rating</th>\n",
       "      <th>title</th>\n",
       "    </tr>\n",
       "  </thead>\n",
       "  <tbody>\n",
       "    <tr>\n",
       "      <td>168</td>\n",
       "      <td>483</td>\n",
       "      <td>1</td>\n",
       "      <td>4.0</td>\n",
       "      <td>Toy Story (1995)</td>\n",
       "    </tr>\n",
       "    <tr>\n",
       "      <td>537</td>\n",
       "      <td>483</td>\n",
       "      <td>47</td>\n",
       "      <td>3.5</td>\n",
       "      <td>Seven (a.k.a. Se7en) (1995)</td>\n",
       "    </tr>\n",
       "    <tr>\n",
       "      <td>740</td>\n",
       "      <td>483</td>\n",
       "      <td>50</td>\n",
       "      <td>4.5</td>\n",
       "      <td>Usual Suspects, The (1995)</td>\n",
       "    </tr>\n",
       "    <tr>\n",
       "      <td>1041</td>\n",
       "      <td>483</td>\n",
       "      <td>110</td>\n",
       "      <td>4.0</td>\n",
       "      <td>Braveheart (1995)</td>\n",
       "    </tr>\n",
       "    <tr>\n",
       "      <td>1345</td>\n",
       "      <td>483</td>\n",
       "      <td>223</td>\n",
       "      <td>3.5</td>\n",
       "      <td>Clerks (1994)</td>\n",
       "    </tr>\n",
       "    <tr>\n",
       "      <td>...</td>\n",
       "      <td>...</td>\n",
       "      <td>...</td>\n",
       "      <td>...</td>\n",
       "      <td>...</td>\n",
       "    </tr>\n",
       "    <tr>\n",
       "      <td>99540</td>\n",
       "      <td>483</td>\n",
       "      <td>105325</td>\n",
       "      <td>1.0</td>\n",
       "      <td>Bad Milo (Bad Milo!) (2013)</td>\n",
       "    </tr>\n",
       "    <tr>\n",
       "      <td>99541</td>\n",
       "      <td>483</td>\n",
       "      <td>109941</td>\n",
       "      <td>3.0</td>\n",
       "      <td>Puss in Boots: The Three Diablos (2012)</td>\n",
       "    </tr>\n",
       "    <tr>\n",
       "      <td>99542</td>\n",
       "      <td>483</td>\n",
       "      <td>109971</td>\n",
       "      <td>4.5</td>\n",
       "      <td>Ocho apellidos vascos (2014)</td>\n",
       "    </tr>\n",
       "    <tr>\n",
       "      <td>99543</td>\n",
       "      <td>483</td>\n",
       "      <td>112316</td>\n",
       "      <td>2.5</td>\n",
       "      <td>Jersey Boys (2014)</td>\n",
       "    </tr>\n",
       "    <tr>\n",
       "      <td>99544</td>\n",
       "      <td>483</td>\n",
       "      <td>115065</td>\n",
       "      <td>2.0</td>\n",
       "      <td>Justin and the Knights of Valour (2013)</td>\n",
       "    </tr>\n",
       "  </tbody>\n",
       "</table>\n",
       "<p>728 rows × 4 columns</p>\n",
       "</div>"
      ],
      "text/plain": [
       "       userId  movieId  rating                                    title\n",
       "168       483        1     4.0                         Toy Story (1995)\n",
       "537       483       47     3.5              Seven (a.k.a. Se7en) (1995)\n",
       "740       483       50     4.5               Usual Suspects, The (1995)\n",
       "1041      483      110     4.0                        Braveheart (1995)\n",
       "1345      483      223     3.5                            Clerks (1994)\n",
       "...       ...      ...     ...                                      ...\n",
       "99540     483   105325     1.0              Bad Milo (Bad Milo!) (2013)\n",
       "99541     483   109941     3.0  Puss in Boots: The Three Diablos (2012)\n",
       "99542     483   109971     4.5             Ocho apellidos vascos (2014)\n",
       "99543     483   112316     2.5                       Jersey Boys (2014)\n",
       "99544     483   115065     2.0  Justin and the Knights of Valour (2013)\n",
       "\n",
       "[728 rows x 4 columns]"
      ]
     },
     "execution_count": 53,
     "metadata": {},
     "output_type": "execute_result"
    }
   ],
   "source": [
    "df[df['userId']==algo.trainset.to_raw_uid(1)]"
   ]
  },
  {
   "cell_type": "code",
   "execution_count": 51,
   "metadata": {},
   "outputs": [],
   "source": [
    "algo = KNNBaseline(k=40, sim_options={'name': 'cosine', 'user_based': True})"
   ]
  },
  {
   "cell_type": "code",
   "execution_count": 52,
   "metadata": {},
   "outputs": [
    {
     "name": "stdout",
     "output_type": "stream",
     "text": [
      "Estimating biases using als...\n",
      "Computing the cosine similarity matrix...\n",
      "Done computing similarity matrix.\n",
      "Estimating biases using als...\n",
      "Computing the cosine similarity matrix...\n",
      "Done computing similarity matrix.\n",
      "Estimating biases using als...\n",
      "Computing the cosine similarity matrix...\n",
      "Done computing similarity matrix.\n",
      "Estimating biases using als...\n",
      "Computing the cosine similarity matrix...\n",
      "Done computing similarity matrix.\n",
      "Estimating biases using als...\n",
      "Computing the cosine similarity matrix...\n",
      "Done computing similarity matrix.\n",
      "Evaluating RMSE, MAE of algorithm KNNBaseline on 5 split(s).\n",
      "\n",
      "                  Fold 1  Fold 2  Fold 3  Fold 4  Fold 5  Mean    Std     \n",
      "RMSE (testset)    0.8762  0.8762  0.8799  0.8798  0.8768  0.8778  0.0017  \n",
      "MAE (testset)     0.6684  0.6702  0.6715  0.6747  0.6723  0.6715  0.0021  \n",
      "Fit time          0.96    0.99    0.98    0.99    1.04    0.99    0.03    \n",
      "Test time         2.32    2.59    2.40    2.30    2.36    2.40    0.11    \n"
     ]
    },
    {
     "data": {
      "text/plain": [
       "{'test_rmse': array([0.87623057, 0.87624448, 0.87986743, 0.87982181, 0.87684904]),\n",
       " 'test_mae': array([0.66842281, 0.67023165, 0.67154532, 0.67472152, 0.67233194]),\n",
       " 'fit_time': (0.9634175300598145,\n",
       "  0.9851865768432617,\n",
       "  0.9823710918426514,\n",
       "  0.9942986965179443,\n",
       "  1.0430529117584229),\n",
       " 'test_time': (2.3243510723114014,\n",
       "  2.5945684909820557,\n",
       "  2.397670269012451,\n",
       "  2.298935890197754,\n",
       "  2.3610284328460693)}"
      ]
     },
     "execution_count": 52,
     "metadata": {},
     "output_type": "execute_result"
    }
   ],
   "source": [
    "cross_validate(algo, data, measures=['RMSE', 'MAE'], cv=5, verbose=True)"
   ]
  },
  {
   "cell_type": "code",
   "execution_count": 55,
   "metadata": {},
   "outputs": [
    {
     "name": "stdout",
     "output_type": "stream",
     "text": [
      "Estimating biases using als...\n",
      "Computing the cosine similarity matrix...\n",
      "Done computing similarity matrix.\n"
     ]
    }
   ],
   "source": [
    "trainset, testset = train_test_split(dataset, test_size=0.2)\n",
    "algo.fit(trainset)\n",
    "predictions = algo.test(testset)"
   ]
  },
  {
   "cell_type": "code",
   "execution_count": 56,
   "metadata": {},
   "outputs": [
    {
     "data": {
      "text/html": [
       "<div>\n",
       "<style scoped>\n",
       "    .dataframe tbody tr th:only-of-type {\n",
       "        vertical-align: middle;\n",
       "    }\n",
       "\n",
       "    .dataframe tbody tr th {\n",
       "        vertical-align: top;\n",
       "    }\n",
       "\n",
       "    .dataframe thead th {\n",
       "        text-align: right;\n",
       "    }\n",
       "</style>\n",
       "<table border=\"1\" class=\"dataframe\">\n",
       "  <thead>\n",
       "    <tr style=\"text-align: right;\">\n",
       "      <th></th>\n",
       "      <th>userId</th>\n",
       "      <th>movieId</th>\n",
       "      <th>rating</th>\n",
       "      <th>title</th>\n",
       "    </tr>\n",
       "  </thead>\n",
       "  <tbody>\n",
       "    <tr>\n",
       "      <td>242</td>\n",
       "      <td>294</td>\n",
       "      <td>3</td>\n",
       "      <td>1.0</td>\n",
       "      <td>Grumpier Old Men (1995)</td>\n",
       "    </tr>\n",
       "    <tr>\n",
       "      <td>312</td>\n",
       "      <td>294</td>\n",
       "      <td>6</td>\n",
       "      <td>3.0</td>\n",
       "      <td>Heat (1995)</td>\n",
       "    </tr>\n",
       "    <tr>\n",
       "      <td>467</td>\n",
       "      <td>294</td>\n",
       "      <td>47</td>\n",
       "      <td>2.0</td>\n",
       "      <td>Seven (a.k.a. Se7en) (1995)</td>\n",
       "    </tr>\n",
       "    <tr>\n",
       "      <td>667</td>\n",
       "      <td>294</td>\n",
       "      <td>50</td>\n",
       "      <td>3.0</td>\n",
       "      <td>Usual Suspects, The (1995)</td>\n",
       "    </tr>\n",
       "    <tr>\n",
       "      <td>795</td>\n",
       "      <td>294</td>\n",
       "      <td>70</td>\n",
       "      <td>4.0</td>\n",
       "      <td>From Dusk Till Dawn (1996)</td>\n",
       "    </tr>\n",
       "    <tr>\n",
       "      <td>...</td>\n",
       "      <td>...</td>\n",
       "      <td>...</td>\n",
       "      <td>...</td>\n",
       "      <td>...</td>\n",
       "    </tr>\n",
       "    <tr>\n",
       "      <td>96190</td>\n",
       "      <td>294</td>\n",
       "      <td>3043</td>\n",
       "      <td>1.0</td>\n",
       "      <td>Meatballs 4 (1992)</td>\n",
       "    </tr>\n",
       "    <tr>\n",
       "      <td>96191</td>\n",
       "      <td>294</td>\n",
       "      <td>3412</td>\n",
       "      <td>2.0</td>\n",
       "      <td>Bear, The (Ours, L') (1988)</td>\n",
       "    </tr>\n",
       "    <tr>\n",
       "      <td>96197</td>\n",
       "      <td>294</td>\n",
       "      <td>3544</td>\n",
       "      <td>3.0</td>\n",
       "      <td>Shakes the Clown (1992)</td>\n",
       "    </tr>\n",
       "    <tr>\n",
       "      <td>96200</td>\n",
       "      <td>294</td>\n",
       "      <td>3667</td>\n",
       "      <td>1.0</td>\n",
       "      <td>Rent-A-Cop (1988)</td>\n",
       "    </tr>\n",
       "    <tr>\n",
       "      <td>96201</td>\n",
       "      <td>294</td>\n",
       "      <td>3710</td>\n",
       "      <td>2.0</td>\n",
       "      <td>Action Jackson (1988)</td>\n",
       "    </tr>\n",
       "  </tbody>\n",
       "</table>\n",
       "<p>437 rows × 4 columns</p>\n",
       "</div>"
      ],
      "text/plain": [
       "       userId  movieId  rating                        title\n",
       "242       294        3     1.0      Grumpier Old Men (1995)\n",
       "312       294        6     3.0                  Heat (1995)\n",
       "467       294       47     2.0  Seven (a.k.a. Se7en) (1995)\n",
       "667       294       50     3.0   Usual Suspects, The (1995)\n",
       "795       294       70     4.0   From Dusk Till Dawn (1996)\n",
       "...       ...      ...     ...                          ...\n",
       "96190     294     3043     1.0           Meatballs 4 (1992)\n",
       "96191     294     3412     2.0  Bear, The (Ours, L') (1988)\n",
       "96197     294     3544     3.0      Shakes the Clown (1992)\n",
       "96200     294     3667     1.0            Rent-A-Cop (1988)\n",
       "96201     294     3710     2.0        Action Jackson (1988)\n",
       "\n",
       "[437 rows x 4 columns]"
      ]
     },
     "execution_count": 56,
     "metadata": {},
     "output_type": "execute_result"
    }
   ],
   "source": [
    "df[df['userId']==algo.trainset.to_raw_uid(1)]"
   ]
  },
  {
   "cell_type": "markdown",
   "metadata": {
    "ExecuteTime": {
     "end_time": "2019-09-02T17:58:22.062592Z",
     "start_time": "2019-09-02T17:58:22.054113Z"
    }
   },
   "source": [
    "## Item-based рекомендация"
   ]
  },
  {
   "cell_type": "code",
   "execution_count": 59,
   "metadata": {},
   "outputs": [],
   "source": [
    "algo = KNNWithMeans(k=60, sim_options={'name': 'pearson_baseline', 'user_based': False})"
   ]
  },
  {
   "cell_type": "code",
   "execution_count": 60,
   "metadata": {},
   "outputs": [
    {
     "name": "stdout",
     "output_type": "stream",
     "text": [
      "Estimating biases using als...\n",
      "Computing the pearson_baseline similarity matrix...\n",
      "Done computing similarity matrix.\n",
      "Estimating biases using als...\n",
      "Computing the pearson_baseline similarity matrix...\n",
      "Done computing similarity matrix.\n",
      "Estimating biases using als...\n",
      "Computing the pearson_baseline similarity matrix...\n",
      "Done computing similarity matrix.\n",
      "Estimating biases using als...\n",
      "Computing the pearson_baseline similarity matrix...\n",
      "Done computing similarity matrix.\n",
      "Estimating biases using als...\n",
      "Computing the pearson_baseline similarity matrix...\n",
      "Done computing similarity matrix.\n",
      "Evaluating RMSE, MAE of algorithm KNNWithMeans on 5 split(s).\n",
      "\n",
      "                  Fold 1  Fold 2  Fold 3  Fold 4  Fold 5  Mean    Std     \n",
      "RMSE (testset)    0.8836  0.8921  0.8819  0.8732  0.8812  0.8824  0.0060  \n",
      "MAE (testset)     0.6730  0.6748  0.6726  0.6638  0.6709  0.6710  0.0038  \n",
      "Fit time          14.17   14.11   14.11   14.16   14.39   14.19   0.10    \n",
      "Test time         10.95   10.74   11.25   10.82   11.20   10.99   0.20    \n"
     ]
    },
    {
     "data": {
      "text/plain": [
       "{'test_rmse': array([0.88360192, 0.8921337 , 0.88191253, 0.87323561, 0.88117732]),\n",
       " 'test_mae': array([0.67297077, 0.67478866, 0.67261722, 0.6638179 , 0.67090671]),\n",
       " 'fit_time': (14.172147035598755,\n",
       "  14.10655951499939,\n",
       "  14.111612558364868,\n",
       "  14.158588647842407,\n",
       "  14.38679552078247),\n",
       " 'test_time': (10.949096441268921,\n",
       "  10.742808103561401,\n",
       "  11.249415159225464,\n",
       "  10.815296411514282,\n",
       "  11.1955406665802)}"
      ]
     },
     "execution_count": 60,
     "metadata": {},
     "output_type": "execute_result"
    }
   ],
   "source": [
    "cross_validate(algo, data, measures=['RMSE', 'MAE'], cv=5, verbose=True)"
   ]
  },
  {
   "cell_type": "code",
   "execution_count": 61,
   "metadata": {},
   "outputs": [
    {
     "name": "stdout",
     "output_type": "stream",
     "text": [
      "Estimating biases using als...\n",
      "Computing the pearson_baseline similarity matrix...\n",
      "Done computing similarity matrix.\n"
     ]
    }
   ],
   "source": [
    "trainset, testset = train_test_split(dataset, test_size=0.2)\n",
    "algo.fit(trainset)\n",
    "predictions = algo.test(testset)"
   ]
  },
  {
   "cell_type": "code",
   "execution_count": 63,
   "metadata": {},
   "outputs": [
    {
     "data": {
      "text/html": [
       "<div>\n",
       "<style scoped>\n",
       "    .dataframe tbody tr th:only-of-type {\n",
       "        vertical-align: middle;\n",
       "    }\n",
       "\n",
       "    .dataframe tbody tr th {\n",
       "        vertical-align: top;\n",
       "    }\n",
       "\n",
       "    .dataframe thead th {\n",
       "        text-align: right;\n",
       "    }\n",
       "</style>\n",
       "<table border=\"1\" class=\"dataframe\">\n",
       "  <thead>\n",
       "    <tr style=\"text-align: right;\">\n",
       "      <th></th>\n",
       "      <th>userId</th>\n",
       "      <th>movieId</th>\n",
       "      <th>rating</th>\n",
       "      <th>title</th>\n",
       "    </tr>\n",
       "  </thead>\n",
       "  <tbody>\n",
       "    <tr>\n",
       "      <td>760</td>\n",
       "      <td>569</td>\n",
       "      <td>50</td>\n",
       "      <td>3.0</td>\n",
       "      <td>Usual Suspects, The (1995)</td>\n",
       "    </tr>\n",
       "    <tr>\n",
       "      <td>1480</td>\n",
       "      <td>569</td>\n",
       "      <td>231</td>\n",
       "      <td>3.0</td>\n",
       "      <td>Dumb &amp; Dumber (Dumb and Dumber) (1994)</td>\n",
       "    </tr>\n",
       "    <tr>\n",
       "      <td>2102</td>\n",
       "      <td>569</td>\n",
       "      <td>296</td>\n",
       "      <td>5.0</td>\n",
       "      <td>Pulp Fiction (1994)</td>\n",
       "    </tr>\n",
       "    <tr>\n",
       "      <td>2250</td>\n",
       "      <td>569</td>\n",
       "      <td>316</td>\n",
       "      <td>4.0</td>\n",
       "      <td>Stargate (1994)</td>\n",
       "    </tr>\n",
       "    <tr>\n",
       "      <td>2415</td>\n",
       "      <td>569</td>\n",
       "      <td>349</td>\n",
       "      <td>4.0</td>\n",
       "      <td>Clear and Present Danger (1994)</td>\n",
       "    </tr>\n",
       "    <tr>\n",
       "      <td>2727</td>\n",
       "      <td>569</td>\n",
       "      <td>356</td>\n",
       "      <td>3.0</td>\n",
       "      <td>Forrest Gump (1994)</td>\n",
       "    </tr>\n",
       "    <tr>\n",
       "      <td>3405</td>\n",
       "      <td>569</td>\n",
       "      <td>480</td>\n",
       "      <td>4.0</td>\n",
       "      <td>Jurassic Park (1993)</td>\n",
       "    </tr>\n",
       "    <tr>\n",
       "      <td>4105</td>\n",
       "      <td>569</td>\n",
       "      <td>590</td>\n",
       "      <td>4.0</td>\n",
       "      <td>Dances with Wolves (1990)</td>\n",
       "    </tr>\n",
       "    <tr>\n",
       "      <td>4287</td>\n",
       "      <td>569</td>\n",
       "      <td>592</td>\n",
       "      <td>3.0</td>\n",
       "      <td>Batman (1989)</td>\n",
       "    </tr>\n",
       "    <tr>\n",
       "      <td>20105</td>\n",
       "      <td>569</td>\n",
       "      <td>588</td>\n",
       "      <td>4.0</td>\n",
       "      <td>Aladdin (1992)</td>\n",
       "    </tr>\n",
       "    <tr>\n",
       "      <td>20252</td>\n",
       "      <td>569</td>\n",
       "      <td>595</td>\n",
       "      <td>4.0</td>\n",
       "      <td>Beauty and the Beast (1991)</td>\n",
       "    </tr>\n",
       "    <tr>\n",
       "      <td>25654</td>\n",
       "      <td>569</td>\n",
       "      <td>153</td>\n",
       "      <td>5.0</td>\n",
       "      <td>Batman Forever (1995)</td>\n",
       "    </tr>\n",
       "    <tr>\n",
       "      <td>26134</td>\n",
       "      <td>569</td>\n",
       "      <td>344</td>\n",
       "      <td>4.0</td>\n",
       "      <td>Ace Ventura: Pet Detective (1994)</td>\n",
       "    </tr>\n",
       "    <tr>\n",
       "      <td>26476</td>\n",
       "      <td>569</td>\n",
       "      <td>380</td>\n",
       "      <td>3.0</td>\n",
       "      <td>True Lies (1994)</td>\n",
       "    </tr>\n",
       "    <tr>\n",
       "      <td>27497</td>\n",
       "      <td>569</td>\n",
       "      <td>10</td>\n",
       "      <td>4.0</td>\n",
       "      <td>GoldenEye (1995)</td>\n",
       "    </tr>\n",
       "    <tr>\n",
       "      <td>29126</td>\n",
       "      <td>569</td>\n",
       "      <td>165</td>\n",
       "      <td>5.0</td>\n",
       "      <td>Die Hard: With a Vengeance (1995)</td>\n",
       "    </tr>\n",
       "    <tr>\n",
       "      <td>29398</td>\n",
       "      <td>569</td>\n",
       "      <td>185</td>\n",
       "      <td>4.0</td>\n",
       "      <td>Net, The (1995)</td>\n",
       "    </tr>\n",
       "    <tr>\n",
       "      <td>30929</td>\n",
       "      <td>569</td>\n",
       "      <td>329</td>\n",
       "      <td>5.0</td>\n",
       "      <td>Star Trek: Generations (1994)</td>\n",
       "    </tr>\n",
       "    <tr>\n",
       "      <td>31632</td>\n",
       "      <td>569</td>\n",
       "      <td>377</td>\n",
       "      <td>5.0</td>\n",
       "      <td>Speed (1994)</td>\n",
       "    </tr>\n",
       "    <tr>\n",
       "      <td>31926</td>\n",
       "      <td>569</td>\n",
       "      <td>434</td>\n",
       "      <td>4.0</td>\n",
       "      <td>Cliffhanger (1993)</td>\n",
       "    </tr>\n",
       "  </tbody>\n",
       "</table>\n",
       "</div>"
      ],
      "text/plain": [
       "       userId  movieId  rating                                   title\n",
       "760       569       50     3.0              Usual Suspects, The (1995)\n",
       "1480      569      231     3.0  Dumb & Dumber (Dumb and Dumber) (1994)\n",
       "2102      569      296     5.0                     Pulp Fiction (1994)\n",
       "2250      569      316     4.0                         Stargate (1994)\n",
       "2415      569      349     4.0         Clear and Present Danger (1994)\n",
       "2727      569      356     3.0                     Forrest Gump (1994)\n",
       "3405      569      480     4.0                    Jurassic Park (1993)\n",
       "4105      569      590     4.0               Dances with Wolves (1990)\n",
       "4287      569      592     3.0                           Batman (1989)\n",
       "20105     569      588     4.0                          Aladdin (1992)\n",
       "20252     569      595     4.0             Beauty and the Beast (1991)\n",
       "25654     569      153     5.0                   Batman Forever (1995)\n",
       "26134     569      344     4.0       Ace Ventura: Pet Detective (1994)\n",
       "26476     569      380     3.0                        True Lies (1994)\n",
       "27497     569       10     4.0                        GoldenEye (1995)\n",
       "29126     569      165     5.0       Die Hard: With a Vengeance (1995)\n",
       "29398     569      185     4.0                         Net, The (1995)\n",
       "30929     569      329     5.0           Star Trek: Generations (1994)\n",
       "31632     569      377     5.0                            Speed (1994)\n",
       "31926     569      434     4.0                      Cliffhanger (1993)"
      ]
     },
     "execution_count": 63,
     "metadata": {},
     "output_type": "execute_result"
    }
   ],
   "source": [
    "df[df['userId']==algo.trainset.to_raw_uid(1)]"
   ]
  },
  {
   "cell_type": "code",
   "execution_count": 66,
   "metadata": {},
   "outputs": [],
   "source": [
    "algo = KNNBaseline(k=60, sim_options={'name': 'pearson_baseline', 'user_based': False})"
   ]
  },
  {
   "cell_type": "code",
   "execution_count": 67,
   "metadata": {},
   "outputs": [
    {
     "name": "stdout",
     "output_type": "stream",
     "text": [
      "Estimating biases using als...\n",
      "Computing the pearson_baseline similarity matrix...\n",
      "Done computing similarity matrix.\n",
      "Estimating biases using als...\n",
      "Computing the pearson_baseline similarity matrix...\n",
      "Done computing similarity matrix.\n",
      "Estimating biases using als...\n",
      "Computing the pearson_baseline similarity matrix...\n",
      "Done computing similarity matrix.\n",
      "Estimating biases using als...\n",
      "Computing the pearson_baseline similarity matrix...\n",
      "Done computing similarity matrix.\n",
      "Estimating biases using als...\n",
      "Computing the pearson_baseline similarity matrix...\n",
      "Done computing similarity matrix.\n",
      "Evaluating RMSE, MAE of algorithm KNNBaseline on 5 split(s).\n",
      "\n",
      "                  Fold 1  Fold 2  Fold 3  Fold 4  Fold 5  Mean    Std     \n",
      "RMSE (testset)    0.8557  0.8472  0.8475  0.8572  0.8556  0.8526  0.0044  \n",
      "MAE (testset)     0.6534  0.6455  0.6484  0.6536  0.6522  0.6506  0.0032  \n",
      "Fit time          14.20   13.80   14.01   14.05   14.17   14.05   0.14    \n",
      "Test time         11.67   11.73   12.06   11.98   11.75   11.84   0.15    \n"
     ]
    },
    {
     "data": {
      "text/plain": [
       "{'test_rmse': array([0.85571715, 0.8471665 , 0.84754157, 0.85720462, 0.85560958]),\n",
       " 'test_mae': array([0.65339881, 0.64547976, 0.6483898 , 0.65360409, 0.6522082 ]),\n",
       " 'fit_time': (14.200519561767578,\n",
       "  13.801073551177979,\n",
       "  14.013052225112915,\n",
       "  14.050150871276855,\n",
       "  14.173919200897217),\n",
       " 'test_time': (11.67282485961914,\n",
       "  11.72562289237976,\n",
       "  12.06279706954956,\n",
       "  11.975095987319946,\n",
       "  11.747020244598389)}"
      ]
     },
     "execution_count": 67,
     "metadata": {},
     "output_type": "execute_result"
    }
   ],
   "source": [
    "cross_validate(algo, data, measures=['RMSE', 'MAE'], cv=5, verbose=True)"
   ]
  },
  {
   "cell_type": "code",
   "execution_count": 68,
   "metadata": {},
   "outputs": [
    {
     "name": "stdout",
     "output_type": "stream",
     "text": [
      "Estimating biases using als...\n",
      "Computing the pearson_baseline similarity matrix...\n",
      "Done computing similarity matrix.\n"
     ]
    }
   ],
   "source": [
    "trainset, testset = train_test_split(dataset, test_size=0.2)\n",
    "algo.fit(trainset)\n",
    "predictions = algo.test(testset)"
   ]
  },
  {
   "cell_type": "code",
   "execution_count": 69,
   "metadata": {},
   "outputs": [
    {
     "data": {
      "text/html": [
       "<div>\n",
       "<style scoped>\n",
       "    .dataframe tbody tr th:only-of-type {\n",
       "        vertical-align: middle;\n",
       "    }\n",
       "\n",
       "    .dataframe tbody tr th {\n",
       "        vertical-align: top;\n",
       "    }\n",
       "\n",
       "    .dataframe thead th {\n",
       "        text-align: right;\n",
       "    }\n",
       "</style>\n",
       "<table border=\"1\" class=\"dataframe\">\n",
       "  <thead>\n",
       "    <tr style=\"text-align: right;\">\n",
       "      <th></th>\n",
       "      <th>userId</th>\n",
       "      <th>movieId</th>\n",
       "      <th>rating</th>\n",
       "      <th>title</th>\n",
       "    </tr>\n",
       "  </thead>\n",
       "  <tbody>\n",
       "    <tr>\n",
       "      <td>140</td>\n",
       "      <td>391</td>\n",
       "      <td>1</td>\n",
       "      <td>3.0</td>\n",
       "      <td>Toy Story (1995)</td>\n",
       "    </tr>\n",
       "    <tr>\n",
       "      <td>334</td>\n",
       "      <td>391</td>\n",
       "      <td>6</td>\n",
       "      <td>4.0</td>\n",
       "      <td>Heat (1995)</td>\n",
       "    </tr>\n",
       "    <tr>\n",
       "      <td>504</td>\n",
       "      <td>391</td>\n",
       "      <td>47</td>\n",
       "      <td>3.0</td>\n",
       "      <td>Seven (a.k.a. Se7en) (1995)</td>\n",
       "    </tr>\n",
       "    <tr>\n",
       "      <td>712</td>\n",
       "      <td>391</td>\n",
       "      <td>50</td>\n",
       "      <td>4.0</td>\n",
       "      <td>Usual Suspects, The (1995)</td>\n",
       "    </tr>\n",
       "    <tr>\n",
       "      <td>810</td>\n",
       "      <td>391</td>\n",
       "      <td>70</td>\n",
       "      <td>1.0</td>\n",
       "      <td>From Dusk Till Dawn (1996)</td>\n",
       "    </tr>\n",
       "    <tr>\n",
       "      <td>...</td>\n",
       "      <td>...</td>\n",
       "      <td>...</td>\n",
       "      <td>...</td>\n",
       "      <td>...</td>\n",
       "    </tr>\n",
       "    <tr>\n",
       "      <td>97872</td>\n",
       "      <td>391</td>\n",
       "      <td>4965</td>\n",
       "      <td>3.0</td>\n",
       "      <td>Business of Strangers, The (2001)</td>\n",
       "    </tr>\n",
       "    <tr>\n",
       "      <td>97874</td>\n",
       "      <td>391</td>\n",
       "      <td>5470</td>\n",
       "      <td>4.0</td>\n",
       "      <td>The Importance of Being Earnest (1952)</td>\n",
       "    </tr>\n",
       "    <tr>\n",
       "      <td>97877</td>\n",
       "      <td>391</td>\n",
       "      <td>5477</td>\n",
       "      <td>5.0</td>\n",
       "      <td>Sex and Lucia (Lucía y el sexo) (2001)</td>\n",
       "    </tr>\n",
       "    <tr>\n",
       "      <td>97881</td>\n",
       "      <td>391</td>\n",
       "      <td>5537</td>\n",
       "      <td>5.0</td>\n",
       "      <td>Satin Rouge (2002)</td>\n",
       "    </tr>\n",
       "    <tr>\n",
       "      <td>97882</td>\n",
       "      <td>391</td>\n",
       "      <td>5575</td>\n",
       "      <td>2.0</td>\n",
       "      <td>Alias Betty (Betty Fisher et autres histoires)...</td>\n",
       "    </tr>\n",
       "  </tbody>\n",
       "</table>\n",
       "<p>386 rows × 4 columns</p>\n",
       "</div>"
      ],
      "text/plain": [
       "       userId  movieId  rating  \\\n",
       "140       391        1     3.0   \n",
       "334       391        6     4.0   \n",
       "504       391       47     3.0   \n",
       "712       391       50     4.0   \n",
       "810       391       70     1.0   \n",
       "...       ...      ...     ...   \n",
       "97872     391     4965     3.0   \n",
       "97874     391     5470     4.0   \n",
       "97877     391     5477     5.0   \n",
       "97881     391     5537     5.0   \n",
       "97882     391     5575     2.0   \n",
       "\n",
       "                                                   title  \n",
       "140                                     Toy Story (1995)  \n",
       "334                                          Heat (1995)  \n",
       "504                          Seven (a.k.a. Se7en) (1995)  \n",
       "712                           Usual Suspects, The (1995)  \n",
       "810                           From Dusk Till Dawn (1996)  \n",
       "...                                                  ...  \n",
       "97872                  Business of Strangers, The (2001)  \n",
       "97874             The Importance of Being Earnest (1952)  \n",
       "97877             Sex and Lucia (Lucía y el sexo) (2001)  \n",
       "97881                                 Satin Rouge (2002)  \n",
       "97882  Alias Betty (Betty Fisher et autres histoires)...  \n",
       "\n",
       "[386 rows x 4 columns]"
      ]
     },
     "execution_count": 69,
     "metadata": {},
     "output_type": "execute_result"
    }
   ],
   "source": [
    "df[df['userId']==algo.trainset.to_raw_uid(1)]"
   ]
  }
 ],
 "metadata": {
  "kernelspec": {
   "display_name": "Python 3",
   "language": "python",
   "name": "python3"
  },
  "language_info": {
   "codemirror_mode": {
    "name": "ipython",
    "version": 3
   },
   "file_extension": ".py",
   "mimetype": "text/x-python",
   "name": "python",
   "nbconvert_exporter": "python",
   "pygments_lexer": "ipython3",
   "version": "3.7.4"
  }
 },
 "nbformat": 4,
 "nbformat_minor": 4
}
