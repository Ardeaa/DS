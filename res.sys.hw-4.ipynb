{
 "cells": [
  {
   "cell_type": "code",
   "execution_count": 2,
   "metadata": {},
   "outputs": [],
   "source": [
    "import pandas as pd\n",
    "import numpy as np\n",
    "from tqdm import tqdm_notebook\n",
    "\n",
    "import scipy.sparse as sparse\n",
    "\n",
    "%matplotlib inline\n",
    "\n",
    "from implicit.als import AlternatingLeastSquares"
   ]
  },
  {
   "cell_type": "code",
   "execution_count": 3,
   "metadata": {},
   "outputs": [],
   "source": [
    "raw_data = pd.read_table('user_taggedbookmarks-timestamps.dat')"
   ]
  },
  {
   "cell_type": "code",
   "execution_count": 38,
   "metadata": {},
   "outputs": [
    {
     "data": {
      "text/html": [
       "<div>\n",
       "<style scoped>\n",
       "    .dataframe tbody tr th:only-of-type {\n",
       "        vertical-align: middle;\n",
       "    }\n",
       "\n",
       "    .dataframe tbody tr th {\n",
       "        vertical-align: top;\n",
       "    }\n",
       "\n",
       "    .dataframe thead th {\n",
       "        text-align: right;\n",
       "    }\n",
       "</style>\n",
       "<table border=\"1\" class=\"dataframe\">\n",
       "  <thead>\n",
       "    <tr style=\"text-align: right;\">\n",
       "      <th></th>\n",
       "      <th>userID</th>\n",
       "      <th>bookmarkID</th>\n",
       "      <th>tagID</th>\n",
       "      <th>timestamp</th>\n",
       "    </tr>\n",
       "  </thead>\n",
       "  <tbody>\n",
       "    <tr>\n",
       "      <td>0</td>\n",
       "      <td>8</td>\n",
       "      <td>1</td>\n",
       "      <td>1</td>\n",
       "      <td>1289255362000</td>\n",
       "    </tr>\n",
       "    <tr>\n",
       "      <td>1</td>\n",
       "      <td>8</td>\n",
       "      <td>2</td>\n",
       "      <td>1</td>\n",
       "      <td>1289255159000</td>\n",
       "    </tr>\n",
       "    <tr>\n",
       "      <td>2</td>\n",
       "      <td>8</td>\n",
       "      <td>7</td>\n",
       "      <td>1</td>\n",
       "      <td>1289238901000</td>\n",
       "    </tr>\n",
       "    <tr>\n",
       "      <td>3</td>\n",
       "      <td>8</td>\n",
       "      <td>7</td>\n",
       "      <td>6</td>\n",
       "      <td>1289238901000</td>\n",
       "    </tr>\n",
       "    <tr>\n",
       "      <td>4</td>\n",
       "      <td>8</td>\n",
       "      <td>7</td>\n",
       "      <td>7</td>\n",
       "      <td>1289238901000</td>\n",
       "    </tr>\n",
       "  </tbody>\n",
       "</table>\n",
       "</div>"
      ],
      "text/plain": [
       "   userID  bookmarkID  tagID      timestamp\n",
       "0       8           1      1  1289255362000\n",
       "1       8           2      1  1289255159000\n",
       "2       8           7      1  1289238901000\n",
       "3       8           7      6  1289238901000\n",
       "4       8           7      7  1289238901000"
      ]
     },
     "execution_count": 38,
     "metadata": {},
     "output_type": "execute_result"
    }
   ],
   "source": [
    "df = raw_data.dropna()\n",
    "raw_data.head()"
   ]
  },
  {
   "cell_type": "code",
   "execution_count": 40,
   "metadata": {},
   "outputs": [
    {
     "data": {
      "text/html": [
       "<div>\n",
       "<style scoped>\n",
       "    .dataframe tbody tr th:only-of-type {\n",
       "        vertical-align: middle;\n",
       "    }\n",
       "\n",
       "    .dataframe tbody tr th {\n",
       "        vertical-align: top;\n",
       "    }\n",
       "\n",
       "    .dataframe thead th {\n",
       "        text-align: right;\n",
       "    }\n",
       "</style>\n",
       "<table border=\"1\" class=\"dataframe\">\n",
       "  <thead>\n",
       "    <tr style=\"text-align: right;\">\n",
       "      <th></th>\n",
       "      <th>userID</th>\n",
       "      <th>bookmarkID</th>\n",
       "      <th>tagID</th>\n",
       "      <th>timestamp</th>\n",
       "    </tr>\n",
       "  </thead>\n",
       "  <tbody>\n",
       "    <tr>\n",
       "      <td>0</td>\n",
       "      <td>8</td>\n",
       "      <td>1</td>\n",
       "      <td>1</td>\n",
       "      <td>1289255362000</td>\n",
       "    </tr>\n",
       "    <tr>\n",
       "      <td>1</td>\n",
       "      <td>8</td>\n",
       "      <td>2</td>\n",
       "      <td>1</td>\n",
       "      <td>1289255159000</td>\n",
       "    </tr>\n",
       "    <tr>\n",
       "      <td>2</td>\n",
       "      <td>8</td>\n",
       "      <td>7</td>\n",
       "      <td>1</td>\n",
       "      <td>1289238901000</td>\n",
       "    </tr>\n",
       "    <tr>\n",
       "      <td>3</td>\n",
       "      <td>8</td>\n",
       "      <td>7</td>\n",
       "      <td>6</td>\n",
       "      <td>1289238901000</td>\n",
       "    </tr>\n",
       "    <tr>\n",
       "      <td>4</td>\n",
       "      <td>8</td>\n",
       "      <td>7</td>\n",
       "      <td>7</td>\n",
       "      <td>1289238901000</td>\n",
       "    </tr>\n",
       "    <tr>\n",
       "      <td>...</td>\n",
       "      <td>...</td>\n",
       "      <td>...</td>\n",
       "      <td>...</td>\n",
       "      <td>...</td>\n",
       "    </tr>\n",
       "    <tr>\n",
       "      <td>437588</td>\n",
       "      <td>108035</td>\n",
       "      <td>30993</td>\n",
       "      <td>193</td>\n",
       "      <td>1277495315000</td>\n",
       "    </tr>\n",
       "    <tr>\n",
       "      <td>437589</td>\n",
       "      <td>108035</td>\n",
       "      <td>30993</td>\n",
       "      <td>673</td>\n",
       "      <td>1277495315000</td>\n",
       "    </tr>\n",
       "    <tr>\n",
       "      <td>437590</td>\n",
       "      <td>108035</td>\n",
       "      <td>30994</td>\n",
       "      <td>130</td>\n",
       "      <td>1277223715000</td>\n",
       "    </tr>\n",
       "    <tr>\n",
       "      <td>437591</td>\n",
       "      <td>108035</td>\n",
       "      <td>30994</td>\n",
       "      <td>267</td>\n",
       "      <td>1277223715000</td>\n",
       "    </tr>\n",
       "    <tr>\n",
       "      <td>437592</td>\n",
       "      <td>108035</td>\n",
       "      <td>30994</td>\n",
       "      <td>4943</td>\n",
       "      <td>1277223715000</td>\n",
       "    </tr>\n",
       "  </tbody>\n",
       "</table>\n",
       "<p>437593 rows × 4 columns</p>\n",
       "</div>"
      ],
      "text/plain": [
       "        userID bookmarkID  tagID      timestamp\n",
       "0            8          1      1  1289255362000\n",
       "1            8          2      1  1289255159000\n",
       "2            8          7      1  1289238901000\n",
       "3            8          7      6  1289238901000\n",
       "4            8          7      7  1289238901000\n",
       "...        ...        ...    ...            ...\n",
       "437588  108035      30993    193  1277495315000\n",
       "437589  108035      30993    673  1277495315000\n",
       "437590  108035      30994    130  1277223715000\n",
       "437591  108035      30994    267  1277223715000\n",
       "437592  108035      30994   4943  1277223715000\n",
       "\n",
       "[437593 rows x 4 columns]"
      ]
     },
     "execution_count": 40,
     "metadata": {},
     "output_type": "execute_result"
    }
   ],
   "source": [
    "df['userID'] = df['userID'].astype(str)\n",
    "df['bookmarkID'] = df['bookmarkID'].astype(str)                   \n",
    "\n",
    "\n",
    "df"
   ]
  },
  {
   "cell_type": "code",
   "execution_count": 41,
   "metadata": {},
   "outputs": [
    {
     "data": {
      "text/html": [
       "<div>\n",
       "<style scoped>\n",
       "    .dataframe tbody tr th:only-of-type {\n",
       "        vertical-align: middle;\n",
       "    }\n",
       "\n",
       "    .dataframe tbody tr th {\n",
       "        vertical-align: top;\n",
       "    }\n",
       "\n",
       "    .dataframe thead th {\n",
       "        text-align: right;\n",
       "    }\n",
       "</style>\n",
       "<table border=\"1\" class=\"dataframe\">\n",
       "  <thead>\n",
       "    <tr style=\"text-align: right;\">\n",
       "      <th></th>\n",
       "      <th>userID</th>\n",
       "      <th>bookmarkID</th>\n",
       "      <th>tagID</th>\n",
       "      <th>timestamp</th>\n",
       "      <th>User+Bookmark</th>\n",
       "    </tr>\n",
       "  </thead>\n",
       "  <tbody>\n",
       "    <tr>\n",
       "      <td>0</td>\n",
       "      <td>8</td>\n",
       "      <td>1</td>\n",
       "      <td>1</td>\n",
       "      <td>1289255362000</td>\n",
       "      <td>8 1</td>\n",
       "    </tr>\n",
       "    <tr>\n",
       "      <td>1</td>\n",
       "      <td>8</td>\n",
       "      <td>2</td>\n",
       "      <td>1</td>\n",
       "      <td>1289255159000</td>\n",
       "      <td>8 2</td>\n",
       "    </tr>\n",
       "    <tr>\n",
       "      <td>2</td>\n",
       "      <td>8</td>\n",
       "      <td>7</td>\n",
       "      <td>1</td>\n",
       "      <td>1289238901000</td>\n",
       "      <td>8 7</td>\n",
       "    </tr>\n",
       "    <tr>\n",
       "      <td>3</td>\n",
       "      <td>8</td>\n",
       "      <td>7</td>\n",
       "      <td>6</td>\n",
       "      <td>1289238901000</td>\n",
       "      <td>8 7</td>\n",
       "    </tr>\n",
       "    <tr>\n",
       "      <td>4</td>\n",
       "      <td>8</td>\n",
       "      <td>7</td>\n",
       "      <td>7</td>\n",
       "      <td>1289238901000</td>\n",
       "      <td>8 7</td>\n",
       "    </tr>\n",
       "    <tr>\n",
       "      <td>...</td>\n",
       "      <td>...</td>\n",
       "      <td>...</td>\n",
       "      <td>...</td>\n",
       "      <td>...</td>\n",
       "      <td>...</td>\n",
       "    </tr>\n",
       "    <tr>\n",
       "      <td>437588</td>\n",
       "      <td>108035</td>\n",
       "      <td>30993</td>\n",
       "      <td>193</td>\n",
       "      <td>1277495315000</td>\n",
       "      <td>108035 30993</td>\n",
       "    </tr>\n",
       "    <tr>\n",
       "      <td>437589</td>\n",
       "      <td>108035</td>\n",
       "      <td>30993</td>\n",
       "      <td>673</td>\n",
       "      <td>1277495315000</td>\n",
       "      <td>108035 30993</td>\n",
       "    </tr>\n",
       "    <tr>\n",
       "      <td>437590</td>\n",
       "      <td>108035</td>\n",
       "      <td>30994</td>\n",
       "      <td>130</td>\n",
       "      <td>1277223715000</td>\n",
       "      <td>108035 30994</td>\n",
       "    </tr>\n",
       "    <tr>\n",
       "      <td>437591</td>\n",
       "      <td>108035</td>\n",
       "      <td>30994</td>\n",
       "      <td>267</td>\n",
       "      <td>1277223715000</td>\n",
       "      <td>108035 30994</td>\n",
       "    </tr>\n",
       "    <tr>\n",
       "      <td>437592</td>\n",
       "      <td>108035</td>\n",
       "      <td>30994</td>\n",
       "      <td>4943</td>\n",
       "      <td>1277223715000</td>\n",
       "      <td>108035 30994</td>\n",
       "    </tr>\n",
       "  </tbody>\n",
       "</table>\n",
       "<p>437593 rows × 5 columns</p>\n",
       "</div>"
      ],
      "text/plain": [
       "        userID bookmarkID  tagID      timestamp User+Bookmark\n",
       "0            8          1      1  1289255362000           8 1\n",
       "1            8          2      1  1289255159000           8 2\n",
       "2            8          7      1  1289238901000           8 7\n",
       "3            8          7      6  1289238901000           8 7\n",
       "4            8          7      7  1289238901000           8 7\n",
       "...        ...        ...    ...            ...           ...\n",
       "437588  108035      30993    193  1277495315000  108035 30993\n",
       "437589  108035      30993    673  1277495315000  108035 30993\n",
       "437590  108035      30994    130  1277223715000  108035 30994\n",
       "437591  108035      30994    267  1277223715000  108035 30994\n",
       "437592  108035      30994   4943  1277223715000  108035 30994\n",
       "\n",
       "[437593 rows x 5 columns]"
      ]
     },
     "execution_count": 41,
     "metadata": {},
     "output_type": "execute_result"
    }
   ],
   "source": [
    "df['User+Bookmark'] = df['userID']+' '+df['bookmarkID']\n",
    "df"
   ]
  },
  {
   "cell_type": "code",
   "execution_count": 42,
   "metadata": {},
   "outputs": [
    {
     "data": {
      "text/html": [
       "<div>\n",
       "<style scoped>\n",
       "    .dataframe tbody tr th:only-of-type {\n",
       "        vertical-align: middle;\n",
       "    }\n",
       "\n",
       "    .dataframe tbody tr th {\n",
       "        vertical-align: top;\n",
       "    }\n",
       "\n",
       "    .dataframe thead th {\n",
       "        text-align: right;\n",
       "    }\n",
       "</style>\n",
       "<table border=\"1\" class=\"dataframe\">\n",
       "  <thead>\n",
       "    <tr style=\"text-align: right;\">\n",
       "      <th></th>\n",
       "      <th>tagID</th>\n",
       "    </tr>\n",
       "    <tr>\n",
       "      <th>User+Bookmark</th>\n",
       "      <th></th>\n",
       "    </tr>\n",
       "  </thead>\n",
       "  <tbody>\n",
       "    <tr>\n",
       "      <td>100111 14299</td>\n",
       "      <td>6</td>\n",
       "    </tr>\n",
       "    <tr>\n",
       "      <td>100111 22339</td>\n",
       "      <td>3</td>\n",
       "    </tr>\n",
       "    <tr>\n",
       "      <td>100111 22340</td>\n",
       "      <td>3</td>\n",
       "    </tr>\n",
       "    <tr>\n",
       "      <td>100111 22341</td>\n",
       "      <td>3</td>\n",
       "    </tr>\n",
       "    <tr>\n",
       "      <td>100111 22342</td>\n",
       "      <td>3</td>\n",
       "    </tr>\n",
       "    <tr>\n",
       "      <td>...</td>\n",
       "      <td>...</td>\n",
       "    </tr>\n",
       "    <tr>\n",
       "      <td>9985 21337</td>\n",
       "      <td>4</td>\n",
       "    </tr>\n",
       "    <tr>\n",
       "      <td>9985 21340</td>\n",
       "      <td>3</td>\n",
       "    </tr>\n",
       "    <tr>\n",
       "      <td>9985 573</td>\n",
       "      <td>3</td>\n",
       "    </tr>\n",
       "    <tr>\n",
       "      <td>9985 6771</td>\n",
       "      <td>5</td>\n",
       "    </tr>\n",
       "    <tr>\n",
       "      <td>9985 6848</td>\n",
       "      <td>3</td>\n",
       "    </tr>\n",
       "  </tbody>\n",
       "</table>\n",
       "<p>104799 rows × 1 columns</p>\n",
       "</div>"
      ],
      "text/plain": [
       "               tagID\n",
       "User+Bookmark       \n",
       "100111 14299       6\n",
       "100111 22339       3\n",
       "100111 22340       3\n",
       "100111 22341       3\n",
       "100111 22342       3\n",
       "...              ...\n",
       "9985 21337         4\n",
       "9985 21340         3\n",
       "9985 573           3\n",
       "9985 6771          5\n",
       "9985 6848          3\n",
       "\n",
       "[104799 rows x 1 columns]"
      ]
     },
     "execution_count": 42,
     "metadata": {},
     "output_type": "execute_result"
    }
   ],
   "source": [
    "df2 = df.groupby('User+Bookmark')[['tagID']].count()\n",
    "df2"
   ]
  },
  {
   "cell_type": "code",
   "execution_count": 44,
   "metadata": {},
   "outputs": [
    {
     "data": {
      "text/html": [
       "<div>\n",
       "<style scoped>\n",
       "    .dataframe tbody tr th:only-of-type {\n",
       "        vertical-align: middle;\n",
       "    }\n",
       "\n",
       "    .dataframe tbody tr th {\n",
       "        vertical-align: top;\n",
       "    }\n",
       "\n",
       "    .dataframe thead th {\n",
       "        text-align: right;\n",
       "    }\n",
       "</style>\n",
       "<table border=\"1\" class=\"dataframe\">\n",
       "  <thead>\n",
       "    <tr style=\"text-align: right;\">\n",
       "      <th></th>\n",
       "      <th>0</th>\n",
       "      <th>1</th>\n",
       "    </tr>\n",
       "    <tr>\n",
       "      <th>User+Bookmark</th>\n",
       "      <th></th>\n",
       "      <th></th>\n",
       "    </tr>\n",
       "  </thead>\n",
       "  <tbody>\n",
       "    <tr>\n",
       "      <td>100111 14299</td>\n",
       "      <td>100111</td>\n",
       "      <td>14299</td>\n",
       "    </tr>\n",
       "    <tr>\n",
       "      <td>100111 22339</td>\n",
       "      <td>100111</td>\n",
       "      <td>22339</td>\n",
       "    </tr>\n",
       "    <tr>\n",
       "      <td>100111 22340</td>\n",
       "      <td>100111</td>\n",
       "      <td>22340</td>\n",
       "    </tr>\n",
       "    <tr>\n",
       "      <td>100111 22341</td>\n",
       "      <td>100111</td>\n",
       "      <td>22341</td>\n",
       "    </tr>\n",
       "    <tr>\n",
       "      <td>100111 22342</td>\n",
       "      <td>100111</td>\n",
       "      <td>22342</td>\n",
       "    </tr>\n",
       "    <tr>\n",
       "      <td>...</td>\n",
       "      <td>...</td>\n",
       "      <td>...</td>\n",
       "    </tr>\n",
       "    <tr>\n",
       "      <td>9985 21337</td>\n",
       "      <td>9985</td>\n",
       "      <td>21337</td>\n",
       "    </tr>\n",
       "    <tr>\n",
       "      <td>9985 21340</td>\n",
       "      <td>9985</td>\n",
       "      <td>21340</td>\n",
       "    </tr>\n",
       "    <tr>\n",
       "      <td>9985 573</td>\n",
       "      <td>9985</td>\n",
       "      <td>573</td>\n",
       "    </tr>\n",
       "    <tr>\n",
       "      <td>9985 6771</td>\n",
       "      <td>9985</td>\n",
       "      <td>6771</td>\n",
       "    </tr>\n",
       "    <tr>\n",
       "      <td>9985 6848</td>\n",
       "      <td>9985</td>\n",
       "      <td>6848</td>\n",
       "    </tr>\n",
       "  </tbody>\n",
       "</table>\n",
       "<p>104799 rows × 2 columns</p>\n",
       "</div>"
      ],
      "text/plain": [
       "                    0      1\n",
       "User+Bookmark               \n",
       "100111 14299   100111  14299\n",
       "100111 22339   100111  22339\n",
       "100111 22340   100111  22340\n",
       "100111 22341   100111  22341\n",
       "100111 22342   100111  22342\n",
       "...               ...    ...\n",
       "9985 21337       9985  21337\n",
       "9985 21340       9985  21340\n",
       "9985 573         9985    573\n",
       "9985 6771        9985   6771\n",
       "9985 6848        9985   6848\n",
       "\n",
       "[104799 rows x 2 columns]"
      ]
     },
     "execution_count": 44,
     "metadata": {},
     "output_type": "execute_result"
    }
   ],
   "source": [
    "df2['User+Bookmark'] = df2.index\n",
    "df = pd.concat([df2['User+Bookmark'].str.split(' ', expand=True)], axis=1)\n",
    "df"
   ]
  },
  {
   "cell_type": "code",
   "execution_count": 65,
   "metadata": {},
   "outputs": [],
   "source": [
    "df3 = df.join(df2, on='User+Bookmark')\n",
    "df3.columns = ['UserID', 'BookmarkID', 'TagID', 'User+Bookmark']\n",
    "df3 = df3.drop(['User+Bookmark'], axis='columns')"
   ]
  },
  {
   "cell_type": "code",
   "execution_count": 68,
   "metadata": {},
   "outputs": [
    {
     "name": "stdout",
     "output_type": "stream",
     "text": [
      "               UserID BookmarkID  TagID\n",
      "User+Bookmark                          \n",
      "100111 14299   100111      14299      6\n",
      "100111 22339   100111      22339      3\n",
      "100111 22340   100111      22340      3\n",
      "100111 22341   100111      22341      3\n",
      "100111 22342   100111      22342      3\n",
      "...               ...        ...    ...\n",
      "9985 21337       9985      21337      4\n",
      "9985 21340       9985      21340      3\n",
      "9985 573         9985        573      3\n",
      "9985 6771        9985       6771      5\n",
      "9985 6848        9985       6848      3\n",
      "\n",
      "[104799 rows x 3 columns]\n"
     ]
    }
   ],
   "source": [
    "print(df3)"
   ]
  },
  {
   "cell_type": "code",
   "execution_count": 75,
   "metadata": {},
   "outputs": [
    {
     "data": {
      "text/plain": [
       "<matplotlib.axes._subplots.AxesSubplot at 0x2064ceac548>"
      ]
     },
     "execution_count": 75,
     "metadata": {},
     "output_type": "execute_result"
    },
    {
     "data": {
      "image/png": "[encoded data removed]",
      "text/plain": [
       "<Figure size 432x288 with 1 Axes>"
      ]
     },
     "metadata": {
      "needs_background": "light"
     },
     "output_type": "display_data"
    }
   ],
   "source": [
    "df3.iloc[np.where(df3.TagID < 100)].TagID.hist()"
   ]
  },
  {
   "cell_type": "code",
   "execution_count": 78,
   "metadata": {},
   "outputs": [],
   "source": [
    "df3['User_id'] = df3['UserID'].astype(\"category\").cat.codes\n",
    "df3['Bookmark_id'] = df3['BookmarkID'].astype(\"category\").cat.codes"
   ]
  },
  {
   "cell_type": "code",
   "execution_count": 79,
   "metadata": {},
   "outputs": [],
   "source": [
    "data = df3.drop(['UserID', 'BookmarkID'], axis=1)"
   ]
  },
  {
   "cell_type": "code",
   "execution_count": 80,
   "metadata": {},
   "outputs": [],
   "source": [
    "users = list(np.sort(data.User_id.unique()))\n",
    "bookmarkss = list(np.sort(data.Bookmark_id.unique()))\n",
    "tags = list(data.TagID)"
   ]
  },
  {
   "cell_type": "code",
   "execution_count": 81,
   "metadata": {},
   "outputs": [],
   "source": [
    "rows = data.User_id.astype(int)\n",
    "cols = data.Bookmark_id.astype(int)"
   ]
  },
  {
   "cell_type": "code",
   "execution_count": 83,
   "metadata": {},
   "outputs": [],
   "source": [
    "data_sparse = sparse.csr_matrix((tags, (cols, rows)), shape=(len(bookmarkss), len(users)))"
   ]
  },
  {
   "cell_type": "code",
   "execution_count": 84,
   "metadata": {},
   "outputs": [
    {
     "name": "stderr",
     "output_type": "stream",
     "text": [
      "WARNING:root:Intel MKL BLAS detected. Its highly recommend to set the environment variable 'export MKL_NUM_THREADS=1' to disable its internal multithreading\n"
     ]
    },
    {
     "data": {
      "application/vnd.jupyter.widget-view+json": {
       "model_id": "77701d028f12436eb271f217373aa603",
       "version_major": 2,
       "version_minor": 0
      },
      "text/plain": [
       "HBox(children=(IntProgress(value=0, max=15), HTML(value='')))"
      ]
     },
     "metadata": {},
     "output_type": "display_data"
    },
    {
     "name": "stdout",
     "output_type": "stream",
     "text": [
      "\n"
     ]
    }
   ],
   "source": [
    "model = AlternatingLeastSquares(factors=50)\n",
    "model.fit(data_sparse)"
   ]
  },
  {
   "cell_type": "code",
   "execution_count": 85,
   "metadata": {},
   "outputs": [],
   "source": [
    "userid = 0\n",
    "\n",
    "user_items = data_sparse.T.tocsr()\n",
    "recommendations = model.recommend(userid, user_items)"
   ]
  },
  {
   "cell_type": "code",
   "execution_count": 86,
   "metadata": {},
   "outputs": [
    {
     "data": {
      "text/plain": [
       "[(50551, 0.30893755),\n",
       " (5650, 0.30529425),\n",
       " (5699, 0.3028661),\n",
       " (60277, 0.2919461),\n",
       " (7720, 0.29155755),\n",
       " (7686, 0.28641486),\n",
       " (13947, 0.28097415),\n",
       " (5646, 0.2752919),\n",
       " (13952, 0.27186686),\n",
       " (41578, 0.2710014)]"
      ]
     },
     "execution_count": 86,
     "metadata": {},
     "output_type": "execute_result"
    }
   ],
   "source": [
    "recommendations"
   ]
  },
  {
   "cell_type": "code",
   "execution_count": 91,
   "metadata": {},
   "outputs": [
    {
     "data": {
      "application/vnd.jupyter.widget-view+json": {
       "model_id": "93fbc25ead984343be4c26b285da8167",
       "version_major": 2,
       "version_minor": 0
      },
      "text/plain": [
       "HBox(children=(IntProgress(value=1, bar_style='info', max=1), HTML(value='')))"
      ]
     },
     "metadata": {},
     "output_type": "display_data"
    },
    {
     "name": "stdout",
     "output_type": "stream",
     "text": [
      "\n",
      "7350\n",
      "11530\n",
      "11584\n",
      "8726\n",
      "14216\n",
      "14154\n",
      "22423\n",
      "11527\n",
      "22431\n",
      "607\n"
     ]
    }
   ],
   "source": [
    "item_lookup = df3[['Bookmark_id', 'BookmarkID']].drop_duplicates()\n",
    "item_lookup['Bookmark_id'] = item_lookup.Bookmark_id.astype(str)\n",
    "\n",
    "Bookmark_id_name = {}\n",
    "\n",
    "for index, row in tqdm_notebook(item_lookup.iterrows()):\n",
    "    Bookmark_id_name[row.Bookmark_id] = row.BookmarkID\n",
    "\n",
    "for r in recommendations:\n",
    "    print(Bookmark_id_name[str(r[0])])"
   ]
  },
  {
   "cell_type": "code",
   "execution_count": 92,
   "metadata": {},
   "outputs": [],
   "source": [
    "itemid = 5\n",
    "related = model.similar_items(itemid)"
   ]
  },
  {
   "cell_type": "code",
   "execution_count": 93,
   "metadata": {},
   "outputs": [
    {
     "data": {
      "text/plain": [
       "[(69181, 0.18729411),\n",
       " (69219, 0.18729411),\n",
       " (69222, 0.18729411),\n",
       " (69190, 0.1872941),\n",
       " (69167, 0.1872941),\n",
       " (69168, 0.1872941),\n",
       " (69178, 0.1872941),\n",
       " (69182, 0.1872941),\n",
       " (69199, 0.1872941),\n",
       " (69156, 0.1872941)]"
      ]
     },
     "execution_count": 93,
     "metadata": {},
     "output_type": "execute_result"
    }
   ],
   "source": [
    "related"
   ]
  },
  {
   "cell_type": "code",
   "execution_count": 96,
   "metadata": {},
   "outputs": [
    {
     "data": {
      "text/plain": [
       "'100003'"
      ]
     },
     "execution_count": 96,
     "metadata": {},
     "output_type": "execute_result"
    }
   ],
   "source": [
    "Bookmark_id_name['5']"
   ]
  },
  {
   "cell_type": "code",
   "execution_count": 97,
   "metadata": {},
   "outputs": [
    {
     "name": "stdout",
     "output_type": "stream",
     "text": [
      "99948\n",
      "99995\n",
      "99999\n",
      "99957\n",
      "99930\n",
      "99931\n",
      "99945\n",
      "99949\n",
      "99969\n",
      "99919\n"
     ]
    }
   ],
   "source": [
    "for a in related:\n",
    "    print(Bookmark_id_name[str(a[0])])"
   ]
  }
 ],
 "metadata": {
  "kernelspec": {
   "display_name": "Python 3",
   "language": "python",
   "name": "python3"
  },
  "language_info": {
   "codemirror_mode": {
    "name": "ipython",
    "version": 3
   },
   "file_extension": ".py",
   "mimetype": "text/x-python",
   "name": "python",
   "nbconvert_exporter": "python",
   "pygments_lexer": "ipython3",
   "version": "3.7.4"
  }
 },
 "nbformat": 4,
 "nbformat_minor": 4
}
